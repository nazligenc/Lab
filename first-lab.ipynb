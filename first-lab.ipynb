{
 "cells": [
  {
   "cell_type": "code",
   "execution_count": 1,
   "id": "9d830b26",
   "metadata": {
    "_cell_guid": "b1076dfc-b9ad-4769-8c92-a6c4dae69d19",
    "_uuid": "8f2839f25d086af736a60e9eeb907d3b93b6e0e5",
    "execution": {
     "iopub.execute_input": "2023-03-01T21:25:23.653239Z",
     "iopub.status.busy": "2023-03-01T21:25:23.652806Z",
     "iopub.status.idle": "2023-03-01T21:25:23.666241Z",
     "shell.execute_reply": "2023-03-01T21:25:23.664961Z"
    },
    "papermill": {
     "duration": 0.022643,
     "end_time": "2023-03-01T21:25:23.668936",
     "exception": false,
     "start_time": "2023-03-01T21:25:23.646293",
     "status": "completed"
    },
    "tags": []
   },
   "outputs": [
    {
     "data": {
      "text/plain": [
       "'merhabaa'"
      ]
     },
     "execution_count": 1,
     "metadata": {},
     "output_type": "execute_result"
    }
   ],
   "source": [
    "var1=5\n",
    "cumle=\"merhabaa\"\n",
    "var2=10.5\n",
    "cumle\n"
   ]
  },
  {
   "cell_type": "code",
   "execution_count": 2,
   "id": "e6adf975",
   "metadata": {
    "execution": {
     "iopub.execute_input": "2023-03-01T21:25:23.678877Z",
     "iopub.status.busy": "2023-03-01T21:25:23.678032Z",
     "iopub.status.idle": "2023-03-01T21:25:23.693254Z",
     "shell.execute_reply": "2023-03-01T21:25:23.691934Z"
    },
    "papermill": {
     "duration": 0.023431,
     "end_time": "2023-03-01T21:25:23.696083",
     "exception": false,
     "start_time": "2023-03-01T21:25:23.672652",
     "status": "completed"
    },
    "tags": []
   },
   "outputs": [
    {
     "name": "stdout",
     "output_type": "stream",
     "text": [
      "0\n",
      "Help on method_descriptor:\n",
      "\n",
      "append(self, object, /)\n",
      "    Append object to the end of the list.\n",
      "\n"
     ]
    },
    {
     "data": {
      "text/plain": [
       "[1, 2, 5, 'nazli', 'selamm']"
      ]
     },
     "execution_count": 2,
     "metadata": {},
     "output_type": "execute_result"
    }
   ],
   "source": [
    "list_int=[1,9,1,0,2,0,6,0,6,1]\n",
    "type(list_int)\n",
    "list_str=[\"ali\",\"emre\",\"aycan\"]\n",
    "list_str\n",
    "print(list_int[3])\n",
    "list_str[2]\n",
    "list_int[-1] #son elemanı verir\n",
    "list_str[-1]\n",
    "list_divide=list_int[1:3]\n",
    "list_divide\n",
    "dir(list_int) \n",
    "\n",
    "help(list.append) \n",
    "\n",
    "list_int.append(2)\n",
    "list_int.remove(0)\n",
    "list_int.reverse()\n",
    "list_int\n",
    "\n",
    "list_new=[9,5,7,3,1,0]\n",
    "list_new.sort()\n",
    "list_new\n",
    "string_int_beraber=[1,2,5,\"nazli\",\"selamm\"]\n",
    "string_int_beraber\n",
    "\n",
    "\n",
    "\n",
    "\n",
    "\n",
    "\n"
   ]
  },
  {
   "cell_type": "code",
   "execution_count": 3,
   "id": "6a6f5fd6",
   "metadata": {
    "execution": {
     "iopub.execute_input": "2023-03-01T21:25:23.705641Z",
     "iopub.status.busy": "2023-03-01T21:25:23.705233Z",
     "iopub.status.idle": "2023-03-01T21:25:23.713500Z",
     "shell.execute_reply": "2023-03-01T21:25:23.712080Z"
    },
    "papermill": {
     "duration": 0.017045,
     "end_time": "2023-03-01T21:25:23.716905",
     "exception": false,
     "start_time": "2023-03-01T21:25:23.699860",
     "status": "completed"
    },
    "tags": []
   },
   "outputs": [
    {
     "name": "stdout",
     "output_type": "stream",
     "text": [
      "2\n",
      "3\n",
      "4\n",
      "b\n",
      "e\n",
      "n\n",
      "i\n",
      "m\n",
      " \n",
      "i\n",
      "l\n",
      "k\n",
      " \n",
      "k\n",
      "o\n",
      "d\n",
      "l\n",
      "a\n",
      "m\n",
      "a\n",
      "m\n",
      "2\n"
     ]
    }
   ],
   "source": [
    "for each in range (2,5): \n",
    "    \n",
    "    print(each) \n",
    "\n",
    "for each in \"benim ilk kodlamam\":\n",
    "    \n",
    "    print(each)\n",
    "    \n",
    "    \n",
    "    topla= [7,8,9,2,3,4]\n",
    "sum(topla) \n",
    "min(topla)\n",
    "minimum=100000\n",
    "\n",
    "for each in topla:\n",
    "    \n",
    "    if(each<minimum):\n",
    "        \n",
    "        minimum=each\n",
    "        \n",
    "    else:\n",
    "        \n",
    "        continue \n",
    "        \n",
    "print(minimum)    \n",
    "\n",
    "            \n",
    "       \n",
    "        \n",
    "    "
   ]
  },
  {
   "cell_type": "code",
   "execution_count": 4,
   "id": "0f89d20c",
   "metadata": {
    "execution": {
     "iopub.execute_input": "2023-03-01T21:25:23.727326Z",
     "iopub.status.busy": "2023-03-01T21:25:23.726915Z",
     "iopub.status.idle": "2023-03-01T21:25:23.734904Z",
     "shell.execute_reply": "2023-03-01T21:25:23.733644Z"
    },
    "papermill": {
     "duration": 0.016917,
     "end_time": "2023-03-01T21:25:23.738379",
     "exception": false,
     "start_time": "2023-03-01T21:25:23.721462",
     "status": "completed"
    },
    "tags": []
   },
   "outputs": [
    {
     "name": "stdout",
     "output_type": "stream",
     "text": [
      "2 büyük\n",
      "value değeri  listenin içinde değildir.\n"
     ]
    }
   ],
   "source": [
    "var1=5\n",
    "var2=10\n",
    "if (var1 > var2):\n",
    "    \n",
    "    print(\"1 büyük\")\n",
    "    \n",
    "elif (var1 == var2):\n",
    "    print(\"eşit\")\n",
    "    \n",
    "else :\n",
    "    \n",
    "    print(\"2 büyük\")\n",
    "    \n",
    "    list =[0,2,7,8,9,4]\n",
    "\n",
    "value = 1\n",
    "\n",
    "if value in list:\n",
    "    \n",
    "    print(\"value değeri listenin içindedir.\".format(value))\n",
    "    \n",
    "else:\n",
    "    print(\"value değeri  listenin içinde değildir.\".format(value))"
   ]
  },
  {
   "cell_type": "code",
   "execution_count": 5,
   "id": "4d622c03",
   "metadata": {
    "execution": {
     "iopub.execute_input": "2023-03-01T21:25:23.748891Z",
     "iopub.status.busy": "2023-03-01T21:25:23.748429Z",
     "iopub.status.idle": "2023-03-01T21:25:23.754659Z",
     "shell.execute_reply": "2023-03-01T21:25:23.753314Z"
    },
    "papermill": {
     "duration": 0.015035,
     "end_time": "2023-03-01T21:25:23.757849",
     "exception": false,
     "start_time": "2023-03-01T21:25:23.742814",
     "status": "completed"
    },
    "tags": []
   },
   "outputs": [
    {
     "name": "stdout",
     "output_type": "stream",
     "text": [
      "1\n",
      "2\n",
      "4\n",
      "8\n",
      "16\n"
     ]
    }
   ],
   "source": [
    "k=1\n",
    "while(k<18):\n",
    "    print(k)\n",
    "    k=k*2"
   ]
  },
  {
   "cell_type": "code",
   "execution_count": 6,
   "id": "8013e4c7",
   "metadata": {
    "execution": {
     "iopub.execute_input": "2023-03-01T21:25:23.769168Z",
     "iopub.status.busy": "2023-03-01T21:25:23.768460Z",
     "iopub.status.idle": "2023-03-01T21:25:23.777013Z",
     "shell.execute_reply": "2023-03-01T21:25:23.775648Z"
    },
    "papermill": {
     "duration": 0.016508,
     "end_time": "2023-03-01T21:25:23.779402",
     "exception": false,
     "start_time": "2023-03-01T21:25:23.762894",
     "status": "completed"
    },
    "tags": []
   },
   "outputs": [
    {
     "data": {
      "text/plain": [
       "35"
      ]
     },
     "execution_count": 6,
     "metadata": {},
     "output_type": "execute_result"
    }
   ],
   "source": [
    "\n",
    "def d_alan(a,b):\n",
    "    \n",
    "    \"\"\"\n",
    "      \n",
    "    parametre:a,b\n",
    "    \n",
    "    output:dikdörtgen alan\n",
    "    \n",
    "    \"\"\"\n",
    "    \n",
    "    output = a*b\n",
    "    \n",
    "    return output\n",
    "d_alan(5,7)\n"
   ]
  },
  {
   "cell_type": "code",
   "execution_count": 7,
   "id": "31c7abec",
   "metadata": {
    "execution": {
     "iopub.execute_input": "2023-03-01T21:25:23.789360Z",
     "iopub.status.busy": "2023-03-01T21:25:23.788959Z",
     "iopub.status.idle": "2023-03-01T21:25:23.794534Z",
     "shell.execute_reply": "2023-03-01T21:25:23.793170Z"
    },
    "papermill": {
     "duration": 0.01491,
     "end_time": "2023-03-01T21:25:23.798312",
     "exception": false,
     "start_time": "2023-03-01T21:25:23.783402",
     "status": "completed"
    },
    "tags": []
   },
   "outputs": [
    {
     "name": "stdout",
     "output_type": "stream",
     "text": [
      "2\n"
     ]
    }
   ],
   "source": [
    "#lambda kullanımı\n",
    "\n",
    "deger=lambda a: 2*a-4\n",
    "print(deger(3))"
   ]
  },
  {
   "cell_type": "code",
   "execution_count": 8,
   "id": "9b50564f",
   "metadata": {
    "execution": {
     "iopub.execute_input": "2023-03-01T21:25:23.808277Z",
     "iopub.status.busy": "2023-03-01T21:25:23.807858Z",
     "iopub.status.idle": "2023-03-01T21:25:23.814899Z",
     "shell.execute_reply": "2023-03-01T21:25:23.813549Z"
    },
    "papermill": {
     "duration": 0.01634,
     "end_time": "2023-03-01T21:25:23.818640",
     "exception": false,
     "start_time": "2023-03-01T21:25:23.802300",
     "status": "completed"
    },
    "tags": []
   },
   "outputs": [
    {
     "name": "stdout",
     "output_type": "stream",
     "text": [
      "no\n"
     ]
    }
   ],
   "source": [
    "map={\"math\":50,\"chemistry\":70,\"english\":10}\n",
    "map[\"math\"]\n",
    "map.keys()\n",
    "map.values()\n",
    "keys=map.keys()\n",
    "if \"a\" in keys:\n",
    "    print(\"yes\")\n",
    "else:\n",
    "    print(\"no\")\n",
    "    \n",
    "    \n",
    "    "
   ]
  }
 ],
 "metadata": {
  "kernelspec": {
   "display_name": "Python 3",
   "language": "python",
   "name": "python3"
  },
  "language_info": {
   "codemirror_mode": {
    "name": "ipython",
    "version": 3
   },
   "file_extension": ".py",
   "mimetype": "text/x-python",
   "name": "python",
   "nbconvert_exporter": "python",
   "pygments_lexer": "ipython3",
   "version": "3.7.12"
  },
  "papermill": {
   "default_parameters": {},
   "duration": 12.982448,
   "end_time": "2023-03-01T21:25:24.548525",
   "environment_variables": {},
   "exception": null,
   "input_path": "__notebook__.ipynb",
   "output_path": "__notebook__.ipynb",
   "parameters": {},
   "start_time": "2023-03-01T21:25:11.566077",
   "version": "2.4.0"
  }
 },
 "nbformat": 4,
 "nbformat_minor": 5
}
