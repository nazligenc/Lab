{
 "cells": [
  {
   "cell_type": "code",
   "execution_count": 1,
   "id": "a6b21126",
   "metadata": {
    "_cell_guid": "b1076dfc-b9ad-4769-8c92-a6c4dae69d19",
    "_uuid": "8f2839f25d086af736a60e9eeb907d3b93b6e0e5",
    "execution": {
     "iopub.execute_input": "2023-03-17T20:13:16.468773Z",
     "iopub.status.busy": "2023-03-17T20:13:16.468420Z",
     "iopub.status.idle": "2023-03-17T20:13:16.480262Z",
     "shell.execute_reply": "2023-03-17T20:13:16.478373Z"
    },
    "papermill": {
     "duration": 0.02109,
     "end_time": "2023-03-17T20:13:16.483170",
     "exception": false,
     "start_time": "2023-03-17T20:13:16.462080",
     "status": "completed"
    },
    "tags": []
   },
   "outputs": [],
   "source": [
    "\n",
    "\n",
    "import numpy as np # linear algebra\n"
   ]
  },
  {
   "cell_type": "code",
   "execution_count": 2,
   "id": "a2d5c514",
   "metadata": {
    "execution": {
     "iopub.execute_input": "2023-03-17T20:13:16.496058Z",
     "iopub.status.busy": "2023-03-17T20:13:16.495728Z",
     "iopub.status.idle": "2023-03-17T20:13:16.504114Z",
     "shell.execute_reply": "2023-03-17T20:13:16.502768Z"
    },
    "papermill": {
     "duration": 0.016155,
     "end_time": "2023-03-17T20:13:16.506370",
     "exception": false,
     "start_time": "2023-03-17T20:13:16.490215",
     "status": "completed"
    },
    "tags": []
   },
   "outputs": [
    {
     "name": "stdout",
     "output_type": "stream",
     "text": [
      "[5 6 9]\n"
     ]
    }
   ],
   "source": [
    "array=np.array([5,6,9])\n",
    "\n",
    "print(array)\n"
   ]
  },
  {
   "cell_type": "code",
   "execution_count": 3,
   "id": "94e0ec3d",
   "metadata": {
    "execution": {
     "iopub.execute_input": "2023-03-17T20:13:16.516286Z",
     "iopub.status.busy": "2023-03-17T20:13:16.515974Z",
     "iopub.status.idle": "2023-03-17T20:13:16.521133Z",
     "shell.execute_reply": "2023-03-17T20:13:16.520038Z"
    },
    "papermill": {
     "duration": 0.012286,
     "end_time": "2023-03-17T20:13:16.522878",
     "exception": false,
     "start_time": "2023-03-17T20:13:16.510592",
     "status": "completed"
    },
    "tags": []
   },
   "outputs": [
    {
     "name": "stdout",
     "output_type": "stream",
     "text": [
      "(9,)\n"
     ]
    }
   ],
   "source": [
    "arrayx= np.array([1,2,3,4,5,6,7,8,9])\n",
    "print(arrayx.shape)"
   ]
  },
  {
   "cell_type": "code",
   "execution_count": 4,
   "id": "8333dd12",
   "metadata": {
    "execution": {
     "iopub.execute_input": "2023-03-17T20:13:16.532849Z",
     "iopub.status.busy": "2023-03-17T20:13:16.532538Z",
     "iopub.status.idle": "2023-03-17T20:13:16.538978Z",
     "shell.execute_reply": "2023-03-17T20:13:16.537770Z"
    },
    "papermill": {
     "duration": 0.014463,
     "end_time": "2023-03-17T20:13:16.541488",
     "exception": false,
     "start_time": "2023-03-17T20:13:16.527025",
     "status": "completed"
    },
    "tags": []
   },
   "outputs": [
    {
     "name": "stdout",
     "output_type": "stream",
     "text": [
      "[[1 2 3]\n",
      " [4 5 6]\n",
      " [7 8 9]]\n",
      "shape:  (3, 3)\n",
      "dimension:  2\n",
      "data type:  int64\n",
      "size:  9\n",
      "type <class 'numpy.ndarray'>\n"
     ]
    }
   ],
   "source": [
    "c = arrayx.reshape(3,3) \n",
    "print(c)\n",
    "print(\"shape: \",c.shape)\n",
    "\n",
    "print(\"dimension: \",c.ndim) #matris boyutu\n",
    "\n",
    "print(\"data type: \",c.dtype.name) \n",
    "\n",
    "\n",
    "print(\"size: \",c.size) #önceki boyutu\n",
    "                       \n",
    "print(\"type\",type(c)) #type <class 'numpy.ndarray'>"
   ]
  },
  {
   "cell_type": "code",
   "execution_count": 5,
   "id": "a06dc4ad",
   "metadata": {
    "execution": {
     "iopub.execute_input": "2023-03-17T20:13:16.551707Z",
     "iopub.status.busy": "2023-03-17T20:13:16.551310Z",
     "iopub.status.idle": "2023-03-17T20:13:16.558036Z",
     "shell.execute_reply": "2023-03-17T20:13:16.555945Z"
    },
    "papermill": {
     "duration": 0.015121,
     "end_time": "2023-03-17T20:13:16.560969",
     "exception": false,
     "start_time": "2023-03-17T20:13:16.545848",
     "status": "completed"
    },
    "tags": []
   },
   "outputs": [
    {
     "name": "stdout",
     "output_type": "stream",
     "text": [
      "[[ 2  3  4]\n",
      " [ 6  7  8]\n",
      " [ 9 10 11]]\n",
      "(3, 3)\n"
     ]
    }
   ],
   "source": [
    "a= np.array([[2,3,4],[6,7,8],[9,10,11]])  #reshape olmadan boyut değişikliği için\n",
    "print(a)\n",
    "print(a.shape)\n"
   ]
  },
  {
   "cell_type": "code",
   "execution_count": 6,
   "id": "4ee35b87",
   "metadata": {
    "execution": {
     "iopub.execute_input": "2023-03-17T20:13:16.572410Z",
     "iopub.status.busy": "2023-03-17T20:13:16.571963Z",
     "iopub.status.idle": "2023-03-17T20:13:16.582775Z",
     "shell.execute_reply": "2023-03-17T20:13:16.580751Z"
    },
    "papermill": {
     "duration": 0.020221,
     "end_time": "2023-03-17T20:13:16.585811",
     "exception": false,
     "start_time": "2023-03-17T20:13:16.565590",
     "status": "completed"
    },
    "tags": []
   },
   "outputs": [
    {
     "data": {
      "text/plain": [
       "array([[0., 0., 0., 0., 0.],\n",
       "       [0., 0., 0., 0., 0.]])"
      ]
     },
     "execution_count": 6,
     "metadata": {},
     "output_type": "execute_result"
    }
   ],
   "source": [
    "zeros= np.zeros((2,5))  #sıfırlardan oluşan array yaratır\n",
    "zeros"
   ]
  },
  {
   "cell_type": "code",
   "execution_count": 7,
   "id": "ab106510",
   "metadata": {
    "execution": {
     "iopub.execute_input": "2023-03-17T20:13:16.596485Z",
     "iopub.status.busy": "2023-03-17T20:13:16.595913Z",
     "iopub.status.idle": "2023-03-17T20:13:16.603356Z",
     "shell.execute_reply": "2023-03-17T20:13:16.602617Z"
    },
    "papermill": {
     "duration": 0.0151,
     "end_time": "2023-03-17T20:13:16.605477",
     "exception": false,
     "start_time": "2023-03-17T20:13:16.590377",
     "status": "completed"
    },
    "tags": []
   },
   "outputs": [
    {
     "data": {
      "text/plain": [
       "array([[1., 1.],\n",
       "       [1., 1.]])"
      ]
     },
     "execution_count": 7,
     "metadata": {},
     "output_type": "execute_result"
    }
   ],
   "source": [
    "ones=np.ones((2,2))       #birlerden oluşan matris yaratma\n",
    "ones"
   ]
  },
  {
   "cell_type": "code",
   "execution_count": 8,
   "id": "749680e3",
   "metadata": {
    "execution": {
     "iopub.execute_input": "2023-03-17T20:13:16.616014Z",
     "iopub.status.busy": "2023-03-17T20:13:16.615682Z",
     "iopub.status.idle": "2023-03-17T20:13:16.623745Z",
     "shell.execute_reply": "2023-03-17T20:13:16.622421Z"
    },
    "papermill": {
     "duration": 0.016051,
     "end_time": "2023-03-17T20:13:16.626058",
     "exception": false,
     "start_time": "2023-03-17T20:13:16.610007",
     "status": "completed"
    },
    "tags": []
   },
   "outputs": [
    {
     "data": {
      "text/plain": [
       "array([[4.65953277e-310, 0.00000000e+000, 0.00000000e+000],\n",
       "       [0.00000000e+000, 0.00000000e+000, 0.00000000e+000]])"
      ]
     },
     "execution_count": 8,
     "metadata": {},
     "output_type": "execute_result"
    }
   ],
   "source": [
    "np.empty((2,3))     #boş array\n"
   ]
  },
  {
   "cell_type": "code",
   "execution_count": 9,
   "id": "37092354",
   "metadata": {
    "execution": {
     "iopub.execute_input": "2023-03-17T20:13:16.637496Z",
     "iopub.status.busy": "2023-03-17T20:13:16.637137Z",
     "iopub.status.idle": "2023-03-17T20:13:16.644301Z",
     "shell.execute_reply": "2023-03-17T20:13:16.642856Z"
    },
    "papermill": {
     "duration": 0.015778,
     "end_time": "2023-03-17T20:13:16.646957",
     "exception": false,
     "start_time": "2023-03-17T20:13:16.631179",
     "status": "completed"
    },
    "tags": []
   },
   "outputs": [
    {
     "name": "stdout",
     "output_type": "stream",
     "text": [
      "[  1.  12.  23.  34.  45.  56.  67.  78.  89. 100.]\n"
     ]
    }
   ],
   "source": [
    "z= np.linspace(1,100,10)  #1 ile 100 arasında 10 sayı yazdıracak\n",
    "print(z)"
   ]
  },
  {
   "cell_type": "code",
   "execution_count": 10,
   "id": "b9e162e7",
   "metadata": {
    "execution": {
     "iopub.execute_input": "2023-03-17T20:13:16.658484Z",
     "iopub.status.busy": "2023-03-17T20:13:16.657912Z",
     "iopub.status.idle": "2023-03-17T20:13:16.666420Z",
     "shell.execute_reply": "2023-03-17T20:13:16.664162Z"
    },
    "papermill": {
     "duration": 0.016905,
     "end_time": "2023-03-17T20:13:16.669292",
     "exception": false,
     "start_time": "2023-03-17T20:13:16.652387",
     "status": "completed"
    },
    "tags": []
   },
   "outputs": [
    {
     "name": "stdout",
     "output_type": "stream",
     "text": [
      "[ 7  9 12]\n",
      "[-3 -5 -6]\n",
      "[4 4 9]\n"
     ]
    }
   ],
   "source": [
    "a= np.array([2,2,3])\n",
    "b= np.array([5,7,9]) #toplama çıkarma gibi işlemlerde boyutlarının aynı olması önemlidir!!\n",
    "\n",
    "print(a+b) \n",
    "print(a-b) \n",
    "print(a**2) \n",
    "\n",
    "\n"
   ]
  },
  {
   "cell_type": "code",
   "execution_count": 11,
   "id": "c85ee989",
   "metadata": {
    "execution": {
     "iopub.execute_input": "2023-03-17T20:13:16.680647Z",
     "iopub.status.busy": "2023-03-17T20:13:16.679920Z",
     "iopub.status.idle": "2023-03-17T20:13:16.686750Z",
     "shell.execute_reply": "2023-03-17T20:13:16.685092Z"
    },
    "papermill": {
     "duration": 0.015116,
     "end_time": "2023-03-17T20:13:16.689150",
     "exception": false,
     "start_time": "2023-03-17T20:13:16.674034",
     "status": "completed"
    },
    "tags": []
   },
   "outputs": [
    {
     "name": "stdout",
     "output_type": "stream",
     "text": [
      "[1, 2, 3, 4]\n",
      "[5 6 7 8]\n",
      "[1 2 3 4]\n"
     ]
    }
   ],
   "source": [
    "list = [1,2,3,4]\n",
    "array = np.array([5,6,7,8]) #array tanımlamak için array'in içine liste yazılır.\n",
    "\n",
    "print(list)\n",
    "print(array)\n",
    "array = np.array(list)\n",
    "print(array)\n"
   ]
  },
  {
   "cell_type": "code",
   "execution_count": 12,
   "id": "aabee0f9",
   "metadata": {
    "execution": {
     "iopub.execute_input": "2023-03-17T20:13:16.700331Z",
     "iopub.status.busy": "2023-03-17T20:13:16.700016Z",
     "iopub.status.idle": "2023-03-17T20:13:16.709791Z",
     "shell.execute_reply": "2023-03-17T20:13:16.708329Z"
    },
    "papermill": {
     "duration": 0.018315,
     "end_time": "2023-03-17T20:13:16.712327",
     "exception": false,
     "start_time": "2023-03-17T20:13:16.694012",
     "status": "completed"
    },
    "tags": []
   },
   "outputs": [
    {
     "name": "stdout",
     "output_type": "stream",
     "text": [
      "[1 2]\n",
      "[4 2] [4 2] [4 2]\n",
      "[4 5 6 7]\n",
      "4\n",
      "[5 6]\n",
      "[7 6 5 4]\n"
     ]
    }
   ],
   "source": [
    "a = np.array([1,2])\n",
    "print(a)\n",
    "b=a\n",
    "\n",
    "c=a\n",
    "\n",
    "b[0]=4\n",
    "print(a,b,c)     #a,b,c arraylerinin hepsinin 0. indeksi değişir. Bir tanesi değişince hepsi değişir.\n",
    "d = a.copy()   #kopyalıyor. birinin indeksi değişince diğeri etkilenmemesi için.\n",
    "d    \n",
    "\n",
    "a= np.array([4,5,6,7])\n",
    "print(a)\n",
    "print(a[0])  #ilk eleman\n",
    "print(a[1:3]) #1'den 3'e(dahil değil) indeks yazdıracak\n",
    "reverse_array = a[::-1]        #array'i ters çevirir.!!\n",
    "print(reverse_array)\n"
   ]
  },
  {
   "cell_type": "code",
   "execution_count": 13,
   "id": "9120f1a5",
   "metadata": {
    "execution": {
     "iopub.execute_input": "2023-03-17T20:13:16.723920Z",
     "iopub.status.busy": "2023-03-17T20:13:16.723615Z",
     "iopub.status.idle": "2023-03-17T20:13:16.731733Z",
     "shell.execute_reply": "2023-03-17T20:13:16.729426Z"
    },
    "papermill": {
     "duration": 0.016921,
     "end_time": "2023-03-17T20:13:16.734413",
     "exception": false,
     "start_time": "2023-03-17T20:13:16.717492",
     "status": "completed"
    },
    "tags": []
   },
   "outputs": [
    {
     "name": "stdout",
     "output_type": "stream",
     "text": [
      "[[10 11 12 13]\n",
      " [ 9  8  7  6]]\n",
      "8\n",
      "[11  8]\n",
      "[9 8 7 6]\n",
      "[8 7 6]\n",
      "[9 8 7 6]\n",
      "[13  6]\n"
     ]
    }
   ],
   "source": [
    "x= np.array([[10,11,12,13],[9,8,7,6]]) \n",
    "print(x)\n",
    "\n",
    "print(x[1,1]) #1.satır 1.sütun\n",
    "print(x[:,1])  \n",
    "print(x[1,:]) \n",
    "print(x[1,1:4]) \n",
    "\n",
    "print(x[-1,:])\n",
    "\n",
    "print(x[:,-1]) "
   ]
  },
  {
   "cell_type": "code",
   "execution_count": 14,
   "id": "e3713a9a",
   "metadata": {
    "execution": {
     "iopub.execute_input": "2023-03-17T20:13:16.747389Z",
     "iopub.status.busy": "2023-03-17T20:13:16.746835Z",
     "iopub.status.idle": "2023-03-17T20:13:16.755116Z",
     "shell.execute_reply": "2023-03-17T20:13:16.753437Z"
    },
    "papermill": {
     "duration": 0.01794,
     "end_time": "2023-03-17T20:13:16.757699",
     "exception": false,
     "start_time": "2023-03-17T20:13:16.739759",
     "status": "completed"
    },
    "tags": []
   },
   "outputs": [
    {
     "name": "stdout",
     "output_type": "stream",
     "text": [
      "[[1 2]\n",
      " [3 4]\n",
      " [5 6]]\n",
      "[1 2 3 4 5 6]\n",
      "[[1 2]\n",
      " [3 4]\n",
      " [5 6]]\n"
     ]
    }
   ],
   "source": [
    "array = np.array([[1,2],[3,4],[5,6]]) \n",
    "print(array)\n",
    "b = array.ravel() #ravel methoduyla tek boyutlu hale getirilir.!\n",
    "print(b)\n",
    "array_transpose = array  #transpose alınır.\n",
    "print(array_transpose) #[[1 2]\n",
    "                       #[3 4]\n",
    "                       #[5 6]]\n"
   ]
  },
  {
   "cell_type": "code",
   "execution_count": 15,
   "id": "f7cf681e",
   "metadata": {
    "execution": {
     "iopub.execute_input": "2023-03-17T20:13:16.769719Z",
     "iopub.status.busy": "2023-03-17T20:13:16.769012Z",
     "iopub.status.idle": "2023-03-17T20:13:16.777262Z",
     "shell.execute_reply": "2023-03-17T20:13:16.775813Z"
    },
    "papermill": {
     "duration": 0.016931,
     "end_time": "2023-03-17T20:13:16.779618",
     "exception": false,
     "start_time": "2023-03-17T20:13:16.762687",
     "status": "completed"
    },
    "tags": []
   },
   "outputs": [
    {
     "name": "stdout",
     "output_type": "stream",
     "text": [
      "[[2 3]\n",
      " [4 5]\n",
      " [6 7]]\n"
     ]
    }
   ],
   "source": [
    "arrayz=np.array([[2,3],[4,5],[6,7]])\n",
    "print(arrayz)"
   ]
  },
  {
   "cell_type": "code",
   "execution_count": 16,
   "id": "d769f5ba",
   "metadata": {
    "execution": {
     "iopub.execute_input": "2023-03-17T20:13:16.791972Z",
     "iopub.status.busy": "2023-03-17T20:13:16.791654Z",
     "iopub.status.idle": "2023-03-17T20:13:16.796549Z",
     "shell.execute_reply": "2023-03-17T20:13:16.795582Z"
    },
    "papermill": {
     "duration": 0.013548,
     "end_time": "2023-03-17T20:13:16.799081",
     "exception": false,
     "start_time": "2023-03-17T20:13:16.785533",
     "status": "completed"
    },
    "tags": []
   },
   "outputs": [
    {
     "name": "stdout",
     "output_type": "stream",
     "text": [
      "[[2 3 4]\n",
      " [5 6 7]]\n"
     ]
    }
   ],
   "source": [
    "#resize ile yapılan boyut değişimleri kalıcıdır, aynı array'in içine kaydeder.\n",
    "#reshape ile yapılan değişimler kalıcı değildir. yapılan değişim başka bir değişkene kaydedilmelidir.\n",
    "arrayz.resize(2,3)\n",
    "print(arrayz)\n"
   ]
  }
 ],
 "metadata": {
  "kernelspec": {
   "display_name": "Python 3",
   "language": "python",
   "name": "python3"
  },
  "language_info": {
   "codemirror_mode": {
    "name": "ipython",
    "version": 3
   },
   "file_extension": ".py",
   "mimetype": "text/x-python",
   "name": "python",
   "nbconvert_exporter": "python",
   "pygments_lexer": "ipython3",
   "version": "3.7.12"
  },
  "papermill": {
   "default_parameters": {},
   "duration": 10.41388,
   "end_time": "2023-03-17T20:13:17.529474",
   "environment_variables": {},
   "exception": null,
   "input_path": "__notebook__.ipynb",
   "output_path": "__notebook__.ipynb",
   "parameters": {},
   "start_time": "2023-03-17T20:13:07.115594",
   "version": "2.4.0"
  }
 },
 "nbformat": 4,
 "nbformat_minor": 5
}
